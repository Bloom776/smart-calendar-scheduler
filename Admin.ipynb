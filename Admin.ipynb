{
 "cells": [
  {
   "cell_type": "code",
   "execution_count": 7,
   "id": "bd53bbfb-bfce-4542-8f59-51d4e7c830b2",
   "metadata": {},
   "outputs": [
    {
     "name": "stdout",
     "output_type": "stream",
     "text": [
      "Requirement already satisfied: openai in c:\\users\\user\\anaconda3\\lib\\site-packages (1.76.0)\n",
      "Requirement already satisfied: google-api-python-client in c:\\users\\user\\anaconda3\\lib\\site-packages (2.168.0)\n",
      "Requirement already satisfied: google-auth-httplib2 in c:\\users\\user\\anaconda3\\lib\\site-packages (0.2.0)\n",
      "Requirement already satisfied: google-auth-oauthlib in c:\\users\\user\\anaconda3\\lib\\site-packages (1.2.2)\n",
      "Requirement already satisfied: langchain in c:\\users\\user\\anaconda3\\lib\\site-packages (0.3.24)\n",
      "Requirement already satisfied: anyio<5,>=3.5.0 in c:\\users\\user\\anaconda3\\lib\\site-packages (from openai) (4.2.0)\n",
      "Requirement already satisfied: distro<2,>=1.7.0 in c:\\users\\user\\anaconda3\\lib\\site-packages (from openai) (1.9.0)\n",
      "Requirement already satisfied: httpx<1,>=0.23.0 in c:\\users\\user\\anaconda3\\lib\\site-packages (from openai) (0.27.0)\n",
      "Requirement already satisfied: jiter<1,>=0.4.0 in c:\\users\\user\\anaconda3\\lib\\site-packages (from openai) (0.9.0)\n",
      "Requirement already satisfied: pydantic<3,>=1.9.0 in c:\\users\\user\\anaconda3\\lib\\site-packages (from openai) (2.11.3)\n",
      "Requirement already satisfied: sniffio in c:\\users\\user\\anaconda3\\lib\\site-packages (from openai) (1.3.0)\n",
      "Requirement already satisfied: tqdm>4 in c:\\users\\user\\anaconda3\\lib\\site-packages (from openai) (4.66.4)\n",
      "Requirement already satisfied: typing-extensions<5,>=4.11 in c:\\users\\user\\anaconda3\\lib\\site-packages (from openai) (4.13.2)\n",
      "Requirement already satisfied: httplib2<1.0.0,>=0.19.0 in c:\\users\\user\\anaconda3\\lib\\site-packages (from google-api-python-client) (0.22.0)\n",
      "Requirement already satisfied: google-auth!=2.24.0,!=2.25.0,<3.0.0,>=1.32.0 in c:\\users\\user\\anaconda3\\lib\\site-packages (from google-api-python-client) (2.39.0)\n",
      "Requirement already satisfied: google-api-core!=2.0.*,!=2.1.*,!=2.2.*,!=2.3.0,<3.0.0,>=1.31.5 in c:\\users\\user\\anaconda3\\lib\\site-packages (from google-api-python-client) (2.24.2)\n",
      "Requirement already satisfied: uritemplate<5,>=3.0.1 in c:\\users\\user\\anaconda3\\lib\\site-packages (from google-api-python-client) (4.1.1)\n",
      "Requirement already satisfied: requests-oauthlib>=0.7.0 in c:\\users\\user\\anaconda3\\lib\\site-packages (from google-auth-oauthlib) (2.0.0)\n",
      "Requirement already satisfied: langchain-core<1.0.0,>=0.3.55 in c:\\users\\user\\anaconda3\\lib\\site-packages (from langchain) (0.3.56)\n",
      "Requirement already satisfied: langchain-text-splitters<1.0.0,>=0.3.8 in c:\\users\\user\\anaconda3\\lib\\site-packages (from langchain) (0.3.8)\n",
      "Requirement already satisfied: langsmith<0.4,>=0.1.17 in c:\\users\\user\\anaconda3\\lib\\site-packages (from langchain) (0.3.37)\n",
      "Requirement already satisfied: SQLAlchemy<3,>=1.4 in c:\\users\\user\\anaconda3\\lib\\site-packages (from langchain) (2.0.30)\n",
      "Requirement already satisfied: requests<3,>=2 in c:\\users\\user\\anaconda3\\lib\\site-packages (from langchain) (2.32.2)\n",
      "Requirement already satisfied: PyYAML>=5.3 in c:\\users\\user\\anaconda3\\lib\\site-packages (from langchain) (6.0.1)\n",
      "Requirement already satisfied: idna>=2.8 in c:\\users\\user\\anaconda3\\lib\\site-packages (from anyio<5,>=3.5.0->openai) (3.7)\n",
      "Requirement already satisfied: googleapis-common-protos<2.0.0,>=1.56.2 in c:\\users\\user\\anaconda3\\lib\\site-packages (from google-api-core!=2.0.*,!=2.1.*,!=2.2.*,!=2.3.0,<3.0.0,>=1.31.5->google-api-python-client) (1.70.0)\n",
      "Requirement already satisfied: protobuf!=3.20.0,!=3.20.1,!=4.21.0,!=4.21.1,!=4.21.2,!=4.21.3,!=4.21.4,!=4.21.5,<7.0.0,>=3.19.5 in c:\\users\\user\\anaconda3\\lib\\site-packages (from google-api-core!=2.0.*,!=2.1.*,!=2.2.*,!=2.3.0,<3.0.0,>=1.31.5->google-api-python-client) (3.20.3)\n",
      "Requirement already satisfied: proto-plus<2.0.0,>=1.22.3 in c:\\users\\user\\anaconda3\\lib\\site-packages (from google-api-core!=2.0.*,!=2.1.*,!=2.2.*,!=2.3.0,<3.0.0,>=1.31.5->google-api-python-client) (1.26.1)\n",
      "Requirement already satisfied: cachetools<6.0,>=2.0.0 in c:\\users\\user\\anaconda3\\lib\\site-packages (from google-auth!=2.24.0,!=2.25.0,<3.0.0,>=1.32.0->google-api-python-client) (5.3.3)\n",
      "Requirement already satisfied: pyasn1-modules>=0.2.1 in c:\\users\\user\\anaconda3\\lib\\site-packages (from google-auth!=2.24.0,!=2.25.0,<3.0.0,>=1.32.0->google-api-python-client) (0.2.8)\n",
      "Requirement already satisfied: rsa<5,>=3.1.4 in c:\\users\\user\\anaconda3\\lib\\site-packages (from google-auth!=2.24.0,!=2.25.0,<3.0.0,>=1.32.0->google-api-python-client) (4.9.1)\n",
      "Requirement already satisfied: pyparsing!=3.0.0,!=3.0.1,!=3.0.2,!=3.0.3,<4,>=2.4.2 in c:\\users\\user\\anaconda3\\lib\\site-packages (from httplib2<1.0.0,>=0.19.0->google-api-python-client) (3.0.9)\n",
      "Requirement already satisfied: certifi in c:\\users\\user\\anaconda3\\lib\\site-packages (from httpx<1,>=0.23.0->openai) (2024.8.30)\n",
      "Requirement already satisfied: httpcore==1.* in c:\\users\\user\\anaconda3\\lib\\site-packages (from httpx<1,>=0.23.0->openai) (1.0.2)\n",
      "Requirement already satisfied: h11<0.15,>=0.13 in c:\\users\\user\\anaconda3\\lib\\site-packages (from httpcore==1.*->httpx<1,>=0.23.0->openai) (0.14.0)\n",
      "Requirement already satisfied: tenacity!=8.4.0,<10.0.0,>=8.1.0 in c:\\users\\user\\anaconda3\\lib\\site-packages (from langchain-core<1.0.0,>=0.3.55->langchain) (8.2.2)\n",
      "Requirement already satisfied: jsonpatch<2.0,>=1.33 in c:\\users\\user\\anaconda3\\lib\\site-packages (from langchain-core<1.0.0,>=0.3.55->langchain) (1.33)\n",
      "Requirement already satisfied: packaging<25,>=23.2 in c:\\users\\user\\anaconda3\\lib\\site-packages (from langchain-core<1.0.0,>=0.3.55->langchain) (23.2)\n",
      "Requirement already satisfied: orjson<4.0.0,>=3.9.14 in c:\\users\\user\\anaconda3\\lib\\site-packages (from langsmith<0.4,>=0.1.17->langchain) (3.10.16)\n",
      "Requirement already satisfied: requests-toolbelt<2.0.0,>=1.0.0 in c:\\users\\user\\anaconda3\\lib\\site-packages (from langsmith<0.4,>=0.1.17->langchain) (1.0.0)\n",
      "Requirement already satisfied: zstandard<0.24.0,>=0.23.0 in c:\\users\\user\\anaconda3\\lib\\site-packages (from langsmith<0.4,>=0.1.17->langchain) (0.23.0)\n",
      "Requirement already satisfied: annotated-types>=0.6.0 in c:\\users\\user\\anaconda3\\lib\\site-packages (from pydantic<3,>=1.9.0->openai) (0.6.0)\n",
      "Requirement already satisfied: pydantic-core==2.33.1 in c:\\users\\user\\anaconda3\\lib\\site-packages (from pydantic<3,>=1.9.0->openai) (2.33.1)\n",
      "Requirement already satisfied: typing-inspection>=0.4.0 in c:\\users\\user\\anaconda3\\lib\\site-packages (from pydantic<3,>=1.9.0->openai) (0.4.0)\n",
      "Requirement already satisfied: charset-normalizer<4,>=2 in c:\\users\\user\\anaconda3\\lib\\site-packages (from requests<3,>=2->langchain) (2.0.4)\n",
      "Requirement already satisfied: urllib3<3,>=1.21.1 in c:\\users\\user\\anaconda3\\lib\\site-packages (from requests<3,>=2->langchain) (2.2.2)\n",
      "Requirement already satisfied: oauthlib>=3.0.0 in c:\\users\\user\\anaconda3\\lib\\site-packages (from requests-oauthlib>=0.7.0->google-auth-oauthlib) (3.2.2)\n",
      "Requirement already satisfied: greenlet!=0.4.17 in c:\\users\\user\\anaconda3\\lib\\site-packages (from SQLAlchemy<3,>=1.4->langchain) (3.0.1)\n",
      "Requirement already satisfied: colorama in c:\\users\\user\\anaconda3\\lib\\site-packages (from tqdm>4->openai) (0.4.6)\n",
      "Requirement already satisfied: jsonpointer>=1.9 in c:\\users\\user\\anaconda3\\lib\\site-packages (from jsonpatch<2.0,>=1.33->langchain-core<1.0.0,>=0.3.55->langchain) (2.1)\n",
      "Requirement already satisfied: pyasn1<0.5.0,>=0.4.6 in c:\\users\\user\\anaconda3\\lib\\site-packages (from pyasn1-modules>=0.2.1->google-auth!=2.24.0,!=2.25.0,<3.0.0,>=1.32.0->google-api-python-client) (0.4.8)\n"
     ]
    }
   ],
   "source": [
    "!pip install openai google-api-python-client google-auth-httplib2 google-auth-oauthlib langchain\n"
   ]
  },
  {
   "cell_type": "code",
   "execution_count": 8,
   "id": "01134a8e-111a-4238-b517-4dd13cc0f78b",
   "metadata": {},
   "outputs": [
    {
     "name": "stdout",
     "output_type": "stream",
     "text": [
      "Please visit this URL to authorize this application: https://accounts.google.com/o/oauth2/auth?response_type=code&client_id=885913184552-86iog4pkulojgr4r46vjse61ukaa3ds8.apps.googleusercontent.com&redirect_uri=http%3A%2F%2Flocalhost%3A53287%2F&scope=https%3A%2F%2Fwww.googleapis.com%2Fauth%2Fcalendar.readonly+https%3A%2F%2Fwww.googleapis.com%2Fauth%2Fgmail.readonly+https%3A%2F%2Fwww.googleapis.com%2Fauth%2Fdocuments.readonly&state=qqrXnpclm6aISpo8LJIxhZbLo5EKbu&access_type=offline\n"
     ]
    }
   ],
   "source": [
    "from google_auth_oauthlib.flow import InstalledAppFlow\n",
    "from googleapiclient.discovery import build\n",
    "from google.auth.transport.requests import Request  \n",
    "import pickle\n",
    "import os\n",
    "\n",
    "# Define the scopes (permissions)\n",
    "SCOPES = [\n",
    "    'https://www.googleapis.com/auth/calendar.readonly',\n",
    "    'https://www.googleapis.com/auth/gmail.readonly',\n",
    "    'https://www.googleapis.com/auth/documents.readonly',\n",
    "]\n",
    "\n",
    "def authenticate_google():\n",
    "    creds = None\n",
    "    if os.path.exists('token.pkl'):\n",
    "        with open('token.pkl', 'rb') as token:\n",
    "            creds = pickle.load(token)\n",
    "    if not creds or not creds.valid:\n",
    "        if creds and creds.expired and creds.refresh_token:\n",
    "            creds.refresh(Request())\n",
    "        else:\n",
    "            flow = InstalledAppFlow.from_client_secrets_file('client_secret_885913184552-86iog4pkulojgr4r46vjse61ukaa3ds8.apps.googleusercontent.com.json', SCOPES)\n",
    "            creds = flow.run_local_server(port=0)\n",
    "        with open('token.pkl', 'wb') as token:\n",
    "            pickle.dump(creds, token)\n",
    "    return creds\n",
    "\n",
    "# Authenticate\n",
    "creds = authenticate_google()\n"
   ]
  },
  {
   "cell_type": "code",
   "execution_count": null,
   "id": "8a8739da-cb8f-412b-838e-279931f19451",
   "metadata": {},
   "outputs": [],
   "source": [
    "from datetime import datetime, timedelta\n",
    "import pytz\n",
    "from dateutil.parser import parse\n",
    "from googleapiclient.discovery import build\n",
    "\n",
    "def list_today_calendar_events(creds):\n",
    "    service = build('calendar', 'v3', credentials=creds)\n",
    "\n",
    "    local_tz = pytz.timezone('Africa/Lagos')\n",
    "    now = datetime.now(local_tz)\n",
    "    start_of_day = now.replace(hour=0, minute=0, second=0, microsecond=0)\n",
    "    end_of_day = now.replace(hour=23, minute=59, second=59, microsecond=0)\n",
    "\n",
    "    time_min = start_of_day.isoformat()\n",
    "    time_max = end_of_day.isoformat()\n",
    "\n",
    "    events_result = service.events().list(\n",
    "        calendarId='primary',\n",
    "        timeMin=time_min,\n",
    "        timeMax=time_max,\n",
    "        singleEvents=True,\n",
    "        orderBy='startTime'\n",
    "    ).execute()\n",
    "\n",
    "    events = events_result.get('items', [])\n",
    "\n",
    "    if not events:\n",
    "        print('🌸 No events scheduled for today.')\n",
    "        return\n",
    "\n",
    "    print('📅 Today\\'s Events:')\n",
    "    print('-------------------')\n",
    "\n",
    "    previous_event_end = None\n",
    "\n",
    "    for event in events:\n",
    "        summary = event.get('summary', 'No Title')\n",
    "        \n",
    "        if 'dateTime' in event['start']:\n",
    "            start_dt = parse(event['start']['dateTime'])\n",
    "            end_dt = parse(event['end']['dateTime'])\n",
    "            print(f\"🕒 {start_dt.strftime('%H:%M')} - {end_dt.strftime('%H:%M')} | {summary}\")\n",
    "        else:\n",
    "            print(f\"📅 All Day | {summary}\")\n",
    "            continue\n",
    "\n",
    "        # Meeting Preparation Reminder\n",
    "        keywords = ['call', 'meeting', 'sync', 'catch-up']\n",
    "        if any(keyword.lower() in summary.lower() for keyword in keywords):\n",
    "            print(\"   ➡️ Prep needed: Fetch notes, LinkedIn bios, previous threads.\")\n",
    "\n",
    "        # Overlap detection\n",
    "        if previous_event_end and start_dt < previous_event_end:\n",
    "            print(\"   ⚠️ Conflict detected with previous event! Consider rescheduling.\")\n",
    "\n",
    "        previous_event_end = end_dt\n",
    "\n",
    "    print('-------------------')\n",
    "\n",
    "# Call the function\n",
    "list_today_calendar_events(creds)\n",
    "\n"
   ]
  },
  {
   "cell_type": "code",
   "execution_count": 10,
   "id": "35aa51ea-4314-45f0-9e66-440cad9baeba",
   "metadata": {},
   "outputs": [],
   "source": [
    "def calendar_agent_menu(creds):\n",
    "    while True:\n",
    "        print(\"\\n📅 Calendar Agent Menu:\")\n",
    "        print(\"1. View Today's Events\")\n",
    "        print(\"2. Create New Event\")\n",
    "        print(\"3. Reschedule Event\")\n",
    "        print(\"4. Delete Event\")\n",
    "        print(\"5. Exit\")\n",
    "        choice = input(\"Enter your choice (1-5): \")\n",
    "\n",
    "        if choice == '1':\n",
    "            list_today_calendar_events(creds)\n",
    "\n",
    "        elif choice == '2':\n",
    "            # Create event\n",
    "            summary = input(\"Enter event summary/title: \")\n",
    "            description = input(\"Enter event description (optional): \")\n",
    "            attendees = input(\"Enter attendees' emails separated by comma (optional): \").split(',')\n",
    "\n",
    "            date_input = input(\"Enter date (YYYY-MM-DD): \")\n",
    "            start_time_input = input(\"Enter start time (HH:MM, 24hr format): \")\n",
    "            end_time_input = input(\"Enter end time (HH:MM, 24hr format): \")\n",
    "\n",
    "            local_tz = pytz.timezone('Africa/Lagos')\n",
    "            start_dt = local_tz.localize(datetime.strptime(f\"{date_input} {start_time_input}\", \"%Y-%m-%d %H:%M\"))\n",
    "            end_dt = local_tz.localize(datetime.strptime(f\"{date_input} {end_time_input}\", \"%Y-%m-%d %H:%M\"))\n",
    "\n",
    "            create_calendar_event(creds, summary, start_dt, end_dt, description, [email.strip() for email in attendees if email])\n",
    "\n",
    "        elif choice == '3':\n",
    "            # Reschedule event\n",
    "            event_id = input(\"Enter the Event ID to reschedule: \")\n",
    "\n",
    "            date_input = input(\"Enter new date (YYYY-MM-DD): \")\n",
    "            start_time_input = input(\"Enter new start time (HH:MM, 24hr format): \")\n",
    "            end_time_input = input(\"Enter new end time (HH:MM, 24hr format): \")\n",
    "\n",
    "            local_tz = pytz.timezone('Africa/Lagos')\n",
    "            new_start_dt = local_tz.localize(datetime.strptime(f\"{date_input} {start_time_input}\", \"%Y-%m-%d %H:%M\"))\n",
    "            new_end_dt = local_tz.localize(datetime.strptime(f\"{date_input} {end_time_input}\", \"%Y-%m-%d %H:%M\"))\n",
    "\n",
    "            reschedule_calendar_event(creds, event_id, new_start_dt, new_end_dt)\n",
    "\n",
    "        elif choice == '4':\n",
    "            # Delete event\n",
    "            event_id = input(\"Enter the Event ID to delete: \")\n",
    "            delete_calendar_event(creds, event_id)\n",
    "\n",
    "        elif choice == '5':\n",
    "            print(\"👋 Exiting Calendar Agent. Have a wonderful day!\")\n",
    "            break\n",
    "\n",
    "        else:\n",
    "            print(\"⚠️ Invalid choice. Please try again.\")\n"
   ]
  },
  {
   "cell_type": "code",
   "execution_count": 12,
   "id": "c2ec0aff-61d8-40a4-b559-ccba689c656b",
   "metadata": {},
   "outputs": [
    {
     "name": "stdout",
     "output_type": "stream",
     "text": [
      "\n",
      "📅 Calendar Agent Menu:\n",
      "1. View Today's Events\n",
      "2. Create New Event\n",
      "3. Reschedule Event\n",
      "4. Delete Event\n",
      "5. Exit\n"
     ]
    },
    {
     "name": "stdin",
     "output_type": "stream",
     "text": [
      "Enter your choice (1-5):  5\n"
     ]
    },
    {
     "name": "stdout",
     "output_type": "stream",
     "text": [
      "👋 Exiting Calendar Agent. Have a wonderful day!\n"
     ]
    }
   ],
   "source": [
    "calendar_agent_menu(creds)\n"
   ]
  },
  {
   "cell_type": "code",
   "execution_count": 14,
   "id": "d825b03b-abff-4e3e-8c55-45c7ea5c18cf",
   "metadata": {},
   "outputs": [
    {
     "name": "stdout",
     "output_type": "stream",
     "text": [
      "Requirement already satisfied: python-dateutil in c:\\users\\user\\anaconda3\\lib\\site-packages (2.9.0.post0)\n",
      "Requirement already satisfied: six>=1.5 in c:\\users\\user\\anaconda3\\lib\\site-packages (from python-dateutil) (1.16.0)\n"
     ]
    }
   ],
   "source": [
    "!pip install python-dateutil"
   ]
  },
  {
   "cell_type": "code",
   "execution_count": 5,
   "id": "da2cf041-1c1c-4fdb-b140-5993662ba9e2",
   "metadata": {},
   "outputs": [
    {
     "ename": "NameError",
     "evalue": "name 'SCOPES' is not defined",
     "output_type": "error",
     "traceback": [
      "\u001b[1;31m---------------------------------------------------------------------------\u001b[0m",
      "\u001b[1;31mNameError\u001b[0m                                 Traceback (most recent call last)",
      "Cell \u001b[1;32mIn[5], line 1\u001b[0m\n\u001b[1;32m----> 1\u001b[0m SCOPES \u001b[38;5;241m+\u001b[39m\u001b[38;5;241m=\u001b[39m [\n\u001b[0;32m      2\u001b[0m     \u001b[38;5;124m'\u001b[39m\u001b[38;5;124mhttps://www.googleapis.com/auth/gmail.readonly\u001b[39m\u001b[38;5;124m'\u001b[39m,\n\u001b[0;32m      3\u001b[0m     \u001b[38;5;124m'\u001b[39m\u001b[38;5;124mhttps://www.googleapis.com/auth/gmail.send\u001b[39m\u001b[38;5;124m'\u001b[39m,\n\u001b[0;32m      4\u001b[0m     \u001b[38;5;124m'\u001b[39m\u001b[38;5;124mhttps://www.googleapis.com/auth/gmail.modify\u001b[39m\u001b[38;5;124m'\u001b[39m,\n\u001b[0;32m      5\u001b[0m ]\n",
      "\u001b[1;31mNameError\u001b[0m: name 'SCOPES' is not defined"
     ]
    }
   ],
   "source": [
    "SCOPES += [\n",
    "    'https://www.googleapis.com/auth/gmail.readonly',\n",
    "    'https://www.googleapis.com/auth/gmail.send',\n",
    "    'https://www.googleapis.com/auth/gmail.modify',\n",
    "]"
   ]
  },
  {
   "cell_type": "code",
   "execution_count": 3,
   "id": "868fe81e-3746-4585-a710-dd0036ea874c",
   "metadata": {},
   "outputs": [
    {
     "ename": "NameError",
     "evalue": "name 'SCOPES' is not defined",
     "output_type": "error",
     "traceback": [
      "\u001b[1;31m---------------------------------------------------------------------------\u001b[0m",
      "\u001b[1;31mNameError\u001b[0m                                 Traceback (most recent call last)",
      "Cell \u001b[1;32mIn[3], line 10\u001b[0m\n\u001b[0;32m      7\u001b[0m     service \u001b[38;5;241m=\u001b[39m build(\u001b[38;5;124m'\u001b[39m\u001b[38;5;124mgmail\u001b[39m\u001b[38;5;124m'\u001b[39m, \u001b[38;5;124m'\u001b[39m\u001b[38;5;124mv1\u001b[39m\u001b[38;5;124m'\u001b[39m, credentials\u001b[38;5;241m=\u001b[39mcreds)\n\u001b[0;32m      8\u001b[0m     \u001b[38;5;28;01mreturn\u001b[39;00m service\n\u001b[1;32m---> 10\u001b[0m gmail_service \u001b[38;5;241m=\u001b[39m authenticate_gmail()\n",
      "Cell \u001b[1;32mIn[3], line 5\u001b[0m, in \u001b[0;36mauthenticate_gmail\u001b[1;34m()\u001b[0m\n\u001b[0;32m      4\u001b[0m \u001b[38;5;28;01mdef\u001b[39;00m \u001b[38;5;21mauthenticate_gmail\u001b[39m():\n\u001b[1;32m----> 5\u001b[0m     flow \u001b[38;5;241m=\u001b[39m InstalledAppFlow\u001b[38;5;241m.\u001b[39mfrom_client_secrets_file(\u001b[38;5;124m'\u001b[39m\u001b[38;5;124mcredentials.json\u001b[39m\u001b[38;5;124m'\u001b[39m, SCOPES)\n\u001b[0;32m      6\u001b[0m     creds \u001b[38;5;241m=\u001b[39m flow\u001b[38;5;241m.\u001b[39mrun_local_server(port\u001b[38;5;241m=\u001b[39m\u001b[38;5;241m0\u001b[39m)\n\u001b[0;32m      7\u001b[0m     service \u001b[38;5;241m=\u001b[39m build(\u001b[38;5;124m'\u001b[39m\u001b[38;5;124mgmail\u001b[39m\u001b[38;5;124m'\u001b[39m, \u001b[38;5;124m'\u001b[39m\u001b[38;5;124mv1\u001b[39m\u001b[38;5;124m'\u001b[39m, credentials\u001b[38;5;241m=\u001b[39mcreds)\n",
      "\u001b[1;31mNameError\u001b[0m: name 'SCOPES' is not defined"
     ]
    }
   ],
   "source": [
    "from google_auth_oauthlib.flow import InstalledAppFlow\n",
    "from googleapiclient.discovery import build\n",
    "\n",
    "def authenticate_gmail():\n",
    "    flow = InstalledAppFlow.from_client_secrets_file('credentials.json', SCOPES)\n",
    "    creds = flow.run_local_server(port=0)\n",
    "    service = build('gmail', 'v1', credentials=creds)\n",
    "    return service\n",
    "\n",
    "gmail_service = authenticate_gmail()"
   ]
  },
  {
   "cell_type": "code",
   "execution_count": 1,
   "id": "6239c257-6a59-44fd-a848-5afa1e7d0a15",
   "metadata": {},
   "outputs": [],
   "source": [
    "import base64\n",
    "import email\n",
    "from googleapiclient.errors import HttpError\n",
    "\n",
    "def list_and_summarize_emails(service, max_results=5):\n",
    "    results = service.users().messages().list(userId='me', labelIds=['INBOX'], maxResults=1).execute()\n",
    "    msgs = results.get('messages', [])\n",
    "    if not msgs:\n",
    "        print(\"📭 No emails found.\")\n",
    "        return\n",
    "    for m in msgs:\n",
    "        msg = service.users().messages().get(userId='me', id=m['id'], format='raw').execute()\n",
    "        raw = base64.urlsafe_b64decode(msg['raw'].encode())\n",
    "        mime = email.message_from_bytes(raw)\n",
    "        subj = mime['subject']\n",
    "        frm = mime['from']\n",
    "        payload = mime.get_payload()\n",
    "        body = \"\"\n",
    "        if mime.is_multipart():\n",
    "            for part in payload:\n",
    "                if part.get_content_type() == 'text/plain':\n",
    "                    body = part.get_payload(decode=True).decode()\n",
    "                    break\n",
    "        else:\n",
    "            body = payload if isinstance(payload, str) else body\n",
    "        snippet = body[:200].replace('\\n',' ')\n",
    "        print(f\"✉️ From: {frm}\\n    Subject: {subj}\\n    Preview: {snippet}...\\n---\")"
   ]
  },
  {
   "cell_type": "code",
   "execution_count": null,
   "id": "b379e0d4-ef10-47f3-9009-19163b70748c",
   "metadata": {},
   "outputs": [],
   "source": [
    "from email.mime.text import MIMEText\n",
    "\n",
    "def send_email(service, to, subject, message_text):\n",
    "    message = MIMEText(message_text, 'plain', 'utf-8')\n",
    "    message['to'] = to\n",
    "    message['subject'] = subject\n",
    "    raw = base64.urlsafe_b64encode(message.as_bytes()).decode()\n",
    "    service.users().messages().send(userId='me', body={'raw': raw}).execute()\n",
    "    print(\"✅ Email sent!\")"
   ]
  },
  {
   "cell_type": "code",
   "execution_count": null,
   "id": "f9f36f16-3b8c-4a09-907d-6fd4f866747d",
   "metadata": {},
   "outputs": [],
   "source": [
    "def admin_agent_menu(creds, gmail_service):\n",
    "    while True:\n",
    "        print(\"\"\"\n",
    "🔧 Admin Agent Menu:\n",
    "1. View Today's Calendar\n",
    "2. Create New Event\n",
    "3. Reschedule Event\n",
    "4. Delete Event\n",
    "5. View & Summarize Emails\n",
    "6. Send a New Email\n",
    "7. Exit\n",
    "\"\"\")\n",
    "        choice = input(\"Enter your choice (1-7): \")\n",
    "        if choice == '1':\n",
    "            list_today_calendar_events(creds)\n",
    "        elif choice == '2':\n",
    "            # ... calendar event creation code ...\n",
    "            pass\n",
    "        # ...\n",
    "        elif choice == '5':\n",
    "            list_and_summarize_emails(gmail_service)\n",
    "        elif choice == '6':\n",
    "            to = input(\"Recipient email: \")\n",
    "            subject = input(\"Subject: \")\n",
    "            body = input(\"Message text: \")\n",
    "            send_email(gmail_service, to, subject, body)\n",
    "        elif choice == '7':\n",
    "            print(\"👋 Bye for now!\")\n",
    "            break\n",
    "        else:\n",
    "            "
   ]
  },
  {
   "cell_type": "code",
   "execution_count": null,
   "id": "477b6f90-5080-4d9f-8971-6f5b651a1728",
   "metadata": {},
   "outputs": [],
   "source": [
    "list_and_summarize_emails(gmail_service)"
   ]
  },
  {
   "cell_type": "code",
   "execution_count": null,
   "id": "c0e81479-71ce-49a7-84a1-7962a81cd80b",
   "metadata": {},
   "outputs": [],
   "source": []
  }
 ],
 "metadata": {
  "kernelspec": {
   "display_name": "Python 3 (ipykernel)",
   "language": "python",
   "name": "python3"
  },
  "language_info": {
   "codemirror_mode": {
    "name": "ipython",
    "version": 3
   },
   "file_extension": ".py",
   "mimetype": "text/x-python",
   "name": "python",
   "nbconvert_exporter": "python",
   "pygments_lexer": "ipython3",
   "version": "3.12.4"
  }
 },
 "nbformat": 4,
 "nbformat_minor": 5
}
